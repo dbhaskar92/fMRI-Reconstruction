{
 "cells": [
  {
   "cell_type": "code",
   "execution_count": null,
   "id": "2851ee5e",
   "metadata": {},
   "outputs": [
    {
     "name": "stderr",
     "output_type": "stream",
     "text": [
      "/gpfs/milgram/project/krishnaswamy_smita/aa2793/conda_envs/pytorch_env/lib/python3.9/site-packages/tqdm/auto.py:21: TqdmWarning: IProgress not found. Please update jupyter and ipywidgets. See https://ipywidgets.readthedocs.io/en/stable/user_install.html\n",
      "  from .autonotebook import tqdm as notebook_tqdm\n"
     ]
    },
    {
     "ename": "ModuleNotFoundError",
     "evalue": "No module named 'phate'",
     "output_type": "error",
     "traceback": [
      "\u001b[0;31m---------------------------------------------------------------------------\u001b[0m",
      "\u001b[0;31mModuleNotFoundError\u001b[0m                       Traceback (most recent call last)",
      "Cell \u001b[0;32mIn[1], line 9\u001b[0m\n\u001b[1;32m      7\u001b[0m \u001b[38;5;28;01mimport\u001b[39;00m \u001b[38;5;21;01mcsv\u001b[39;00m \n\u001b[1;32m      8\u001b[0m \u001b[38;5;28;01mimport\u001b[39;00m \u001b[38;5;21;01mos\u001b[39;00m \n\u001b[0;32m----> 9\u001b[0m \u001b[38;5;28;01mimport\u001b[39;00m \u001b[38;5;21;01mphate\u001b[39;00m\n\u001b[1;32m     10\u001b[0m \u001b[38;5;28;01mimport\u001b[39;00m \u001b[38;5;21;01mnumpy\u001b[39;00m \u001b[38;5;28;01mas\u001b[39;00m \u001b[38;5;21;01mnp\u001b[39;00m\n\u001b[1;32m     11\u001b[0m \u001b[38;5;28;01mimport\u001b[39;00m \u001b[38;5;21;01mre\u001b[39;00m\n",
      "\u001b[0;31mModuleNotFoundError\u001b[0m: No module named 'phate'"
     ]
    }
   ],
   "source": [
    "import torch\n",
    "import numpy as np\n",
    "import os \n",
    "import pandas as pd  \n",
    "import numpy as np\n",
    "import re\n",
    "from tqdm import tqdm\n",
    "from sklearn.decomposition import PCA\n",
    "import torch \n",
    "import random \n",
    "import matplotlib.pyplot as plt\n",
    "import matplotlib.colors as mcolors\n",
    "from sklearn.manifold import TSNE\n",
    "import pandas as pd\n",
    "import scprep \n",
    "colors = []\n",
    "for key in mcolors.CSS4_COLORS:\n",
    "    colors.append(key) \n",
    "import umap\n"
   ]
  },
  {
   "cell_type": "code",
   "execution_count": null,
   "id": "c4b8a7fc",
   "metadata": {},
   "outputs": [
    {
     "name": "stderr",
     "output_type": "stream",
     "text": [
      "/gpfs/milgram/project/krishnaswamy_smita/aa2793/conda_envs/pytorch_env/lib/python3.9/site-packages/tqdm/auto.py:21: TqdmWarning: IProgress not found. Please update jupyter and ipywidgets. See https://ipywidgets.readthedocs.io/en/stable/user_install.html\n",
      "  from .autonotebook import tqdm as notebook_tqdm\n"
     ]
    }
   ],
   "source": [
    "import numpy as np\n",
    "import os\n",
    "import matplotlib.pyplot as plt\n",
    "import umap\n",
    "\n",
    "# meg_dir = '/gpfs/milgram/project/turk-browne/projects/StudyForrest/fmri_meg_aligned_segments/meg/trimmed_new/'\n",
    "fmri_dir = '/gpfs/milgram/project/turk-browne/projects/StudyForrest/fmri_meg_aligned_segments/fmri/fsaverage_trimmed/'\n",
    "\n",
    "# fmri_dir_list = os.listdir(fmri_dir) \n",
    "# [print(x) for x in fmri_dir_list[:5]]\n",
    "\n",
    " \n",
    "for i in range(1, 40):\n",
    "    if i < 10:index = '0'+str(i)\n",
    "    else: index = str(i) \n",
    "    lh_i = fmri_dir + 'fmri_sub-'+index+'_ses-movie_task-movie_all_runs_fmri_resampled_trimmed_lh.npy'  \n",
    "    rh_i = fmri_dir + 'fmri_sub-'+index+'_ses-movie_task-movie_all_runs_fmri_resampled_trimmed_rh.npy'\n",
    "    if os.path.exists(lh_i):\n",
    "        xlh_i = np.load(lh_i)\n",
    "        print('fmri_sub-'+index+'..lh.npy', xlh_i.shape)\n",
    "    if os.path.exists(rh_i): \n",
    "        xrh_i = np.load(rh_i) \n",
    "        print('fmri_sub-'+index+'..rh.npy', xrh_i.shape)  \n",
    "        \n",
    "    break\n",
    "    \n",
    "    \n",
    "print(xlh_i.shape)\n",
    "## UMAP\n",
    "# plt.figure(figsize=(10, 10))\n",
    "# plt.rcParams.update({'font.size': 9}) \n",
    "# z_viz = umap.UMAP(n_neighbors=20, min_dist=0.3, metric='correlation').fit_transform(x) \n",
    "# plt.scatter(z_viz[:, 0], z_viz[:, 1], marker=\".\", s=6, color=colors[0], alpha=0.7) \n",
    "# plt.show\n",
    "    \n",
    "    \n",
    "    \n",
    "\n",
    "# t = xrange(xlh_i.shape[0])\n",
    "# fig, axs = plt.subplots()\n",
    "# axs.set_title(\"Signal\")\n",
    "# # axs.plot(t, s, color='C0')\n",
    "# axs.plot(t, xlh_i[0, :], color='C0')\n",
    "# axs.set_xlabel(\"Time\")\n",
    "# axs.set_ylabel(\"Amplitude\")\n",
    "            \n",
    "            \n",
    "            \n",
    "            \n",
    "# fmri_dir_list = os.listdir(fmri_dir) \n",
    "# file_fmri_list = os.listdir(pwd_fmri_sys) \n",
    "\n",
    "# # list all of the .npy in the directory \n",
    "# [print(x) for x in file_fmri_list[:5]]\n",
    "# print(len(file_fmri_list), '\\n')\n",
    "\n",
    "\n",
    "# for i in range(1, 30):\n",
    "#     if i < 10:index = '0'+str(i)\n",
    "#     else: index = str(i) \n",
    "#     for x in file_fmri_list:  \n",
    "#         if x[9:11] == index:\n",
    "#             print(x)     \n",
    "#     break\n",
    "            \n",
    "            \n",
    "            \n",
    "\n",
    "    \n",
    "    \n",
    " \n"
   ]
  },
  {
   "cell_type": "code",
   "execution_count": 1,
   "id": "6b4b7217",
   "metadata": {},
   "outputs": [],
   "source": [
    "#     file_fmri_list_sub_i = [] \n",
    "\n",
    "# [print(x) for x in file_fmri_list]\n",
    "\n",
    "\n",
    "\n",
    "# for d in file_fmri_list: \n",
    "#     x_i = np.load(pwd_fmri_sys+d)\n",
    "#     print(file_fmri_list[i], '\\n', x_i.shape)\n",
    "\n",
    "\n",
    "# [aa2793@milgram2 fmri_meg_aligned_segments]$ cd \"/gpfs/milgram/project/turk-browne/projects/StudyForrest/fmri_meg_aligned_segments/\"\n",
    "# [aa2793@milgram2 fmri_meg_aligned_segments]$ ls\n",
    "# fmri  fmri_meg_data_info.csv  meg\n",
    "# print(os.system('ls /gpfs/milgram/project/turk-browne/projects/StudyForrest/fmri_meg_aligned_segments/fmri/fsaverage_trimmed'))\n",
    "\n",
    "# df = pd.read_csv('/gpfs/milgram/project/turk-browne/projects/StudyForrest/fmri_meg_aligned_segments/fmri_meg_data_info.csv')\n",
    "\n"
   ]
  },
  {
   "cell_type": "code",
   "execution_count": null,
   "id": "600ad9c4",
   "metadata": {},
   "outputs": [],
   "source": [
    "# print(df.head)"
   ]
  },
  {
   "cell_type": "code",
   "execution_count": null,
   "id": "42eb5948",
   "metadata": {},
   "outputs": [],
   "source": []
  }
 ],
 "metadata": {
  "kernelspec": {
   "display_name": "Python 3 (ipykernel)",
   "language": "python",
   "name": "python3"
  },
  "language_info": {
   "codemirror_mode": {
    "name": "ipython",
    "version": 3
   },
   "file_extension": ".py",
   "mimetype": "text/x-python",
   "name": "python",
   "nbconvert_exporter": "python",
   "pygments_lexer": "ipython3",
   "version": "3.9.16"
  }
 },
 "nbformat": 4,
 "nbformat_minor": 5
}
